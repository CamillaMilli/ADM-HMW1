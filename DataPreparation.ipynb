{
  "metadata": {
    "kernelspec": {
      "display_name": "Python 3",
      "name": "python3"
    },
    "language_info": {
      "name": "python",
      "version": "3.10.14",
      "mimetype": "text/x-python",
      "codemirror_mode": {
        "name": "ipython",
        "version": 3
      },
      "pygments_lexer": "ipython3",
      "nbconvert_exporter": "python",
      "file_extension": ".py"
    },
    "kaggle": {
      "accelerator": "nvidiaTeslaT4",
      "dataSources": [
        {
          "sourceId": 77759,
          "sourceType": "datasetVersion",
          "datasetId": 339
        }
      ],
      "dockerImageVersionId": 30787,
      "isInternetEnabled": true,
      "language": "python",
      "sourceType": "notebook",
      "isGpuEnabled": true
    },
    "colab": {
      "name": "notebook88cc391b18",
      "provenance": [],
      "gpuType": "T4",
      "include_colab_link": true
    },
    "accelerator": "GPU"
  },
  "nbformat_minor": 0,
  "nbformat": 4,
  "cells": [
    {
      "cell_type": "markdown",
      "metadata": {
        "id": "view-in-github",
        "colab_type": "text"
      },
      "source": [
        "<a href=\"https://colab.research.google.com/github/CamillaMilli/ADM-HMW1/blob/main/DataPreparation.ipynb\" target=\"_parent\"><img src=\"https://colab.research.google.com/assets/colab-badge.svg\" alt=\"Open In Colab\"/></a>"
      ]
    },
    {
      "source": [
        "# IMPORTANT: RUN THIS CELL IN ORDER TO IMPORT YOUR KAGGLE DATA SOURCES,\n",
        "# THEN FEEL FREE TO DELETE THIS CELL.\n",
        "# NOTE: THIS NOTEBOOK ENVIRONMENT DIFFERS FROM KAGGLE'S PYTHON\n",
        "# ENVIRONMENT SO THERE MAY BE MISSING LIBRARIES USED BY YOUR\n",
        "# NOTEBOOK.\n",
        "import kagglehub\n",
        "#movielens_20m_dataset_path = kagglehub.dataset_download('grouplens/movielens-20m-dataset')\n",
        "print('Data source import complete.')\n"
      ],
      "metadata": {
        "colab": {
          "base_uri": "https://localhost:8080/"
        },
        "id": "A7UtSgiacHNM",
        "outputId": "ca924a0a-62fc-4c4d-875d-0fab3d5a3c25"
      },
      "cell_type": "code",
      "outputs": [
        {
          "output_type": "stream",
          "name": "stdout",
          "text": [
            "Data source import complete.\n"
          ]
        }
      ],
      "execution_count": 6
    },
    {
      "cell_type": "code",
      "source": [
        "# This Python 3 environment comes with many helpful analytics libraries installed\n",
        "# It is defined by the kaggle/python Docker image: https://github.com/kaggle/docker-python\n",
        "# For example, here's several helpful packages to load\n",
        "\n",
        "import numpy as np # linear algebra\n",
        "import pandas as pd # data processing, CSV file I/O (e.g. pd.read_csv)\n",
        "\n",
        "# Input data files are available in the read-only \"../input/\" directory\n",
        "# For example, running this (by clicking run or pressing Shift+Enter) will list all files under the input directory\n",
        "\n",
        "import os\n",
        "for dirname, _, filenames in os.walk('/root/.cache/kagglehub/datasets/grouplens/movielens-20m-dataset/versions/1'):\n",
        "    for filename in filenames:\n",
        "        print(os.path.join(dirname, filename))\n",
        "\n",
        "# You can write up to 20GB to the current directory (/kaggle/working/) that gets preserved as output when you create a version using \"Save & Run All\"\n",
        "# You can also write temporary files to /kaggle/temp/, but they won't be saved outside of the current session"
      ],
      "metadata": {
        "_uuid": "8f2839f25d086af736a60e9eeb907d3b93b6e0e5",
        "_cell_guid": "b1076dfc-b9ad-4769-8c92-a6c4dae69d19",
        "trusted": true,
        "execution": {
          "iopub.status.busy": "2024-11-21T15:48:31.047394Z",
          "iopub.execute_input": "2024-11-21T15:48:31.047712Z",
          "iopub.status.idle": "2024-11-21T15:48:32.104745Z",
          "shell.execute_reply.started": "2024-11-21T15:48:31.047676Z",
          "shell.execute_reply": "2024-11-21T15:48:32.103715Z"
        },
        "colab": {
          "base_uri": "https://localhost:8080/"
        },
        "id": "4gzBZH_dcHNP",
        "outputId": "6841bf58-9077-4929-e36e-400bb6a3e83c"
      },
      "outputs": [
        {
          "output_type": "stream",
          "name": "stdout",
          "text": [
            "/root/.cache/kagglehub/datasets/grouplens/movielens-20m-dataset/versions/1/genome_scores.csv\n",
            "/root/.cache/kagglehub/datasets/grouplens/movielens-20m-dataset/versions/1/link.csv\n",
            "/root/.cache/kagglehub/datasets/grouplens/movielens-20m-dataset/versions/1/rating.csv\n",
            "/root/.cache/kagglehub/datasets/grouplens/movielens-20m-dataset/versions/1/movie.csv\n",
            "/root/.cache/kagglehub/datasets/grouplens/movielens-20m-dataset/versions/1/tag.csv\n",
            "/root/.cache/kagglehub/datasets/grouplens/movielens-20m-dataset/versions/1/genome_tags.csv\n"
          ]
        }
      ],
      "execution_count": 7
    },
    {
      "cell_type": "code",
      "source": [
        "!nvcc --version"
      ],
      "metadata": {
        "trusted": true,
        "execution": {
          "iopub.status.busy": "2024-11-21T15:48:30.974853Z",
          "iopub.execute_input": "2024-11-21T15:48:30.975183Z",
          "iopub.status.idle": "2024-11-21T15:48:31.04437Z",
          "shell.execute_reply.started": "2024-11-21T15:48:30.975145Z",
          "shell.execute_reply": "2024-11-21T15:48:31.04248Z"
        },
        "colab": {
          "base_uri": "https://localhost:8080/"
        },
        "id": "yfyYWT2ccHNQ",
        "outputId": "b0d46a1e-7883-43b9-f55c-2298837a1278"
      },
      "outputs": [
        {
          "output_type": "stream",
          "name": "stdout",
          "text": [
            "nvcc: NVIDIA (R) Cuda compiler driver\n",
            "Copyright (c) 2005-2023 NVIDIA Corporation\n",
            "Built on Tue_Aug_15_22:02:13_PDT_2023\n",
            "Cuda compilation tools, release 12.2, V12.2.140\n",
            "Build cuda_12.2.r12.2/compiler.33191640_0\n"
          ]
        }
      ],
      "execution_count": 9
    },
    {
      "cell_type": "markdown",
      "source": [
        "https://github.com/rapidsai/cudf?tab=readme-ov-file#pip"
      ],
      "metadata": {
        "id": "SnhfOwS_cHNR"
      }
    },
    {
      "cell_type": "code",
      "source": [
        "pip install --extra-index-url=https://pypi.nvidia.com cudf-cu12"
      ],
      "metadata": {
        "id": "-9FEJ7wppkbN",
        "outputId": "6f4a13b2-fdcb-4557-831b-8315fd6c3283",
        "colab": {
          "base_uri": "https://localhost:8080/"
        }
      },
      "execution_count": 8,
      "outputs": [
        {
          "output_type": "stream",
          "name": "stdout",
          "text": [
            "Looking in indexes: https://pypi.org/simple, https://pypi.nvidia.com\n",
            "Requirement already satisfied: cudf-cu12 in /usr/local/lib/python3.10/dist-packages (24.10.1)\n",
            "Requirement already satisfied: cachetools in /usr/local/lib/python3.10/dist-packages (from cudf-cu12) (5.5.0)\n",
            "Requirement already satisfied: cuda-python<13.0a0,>=12.0 in /usr/local/lib/python3.10/dist-packages (from cudf-cu12) (12.2.1)\n",
            "Requirement already satisfied: cupy-cuda12x>=12.0.0 in /usr/local/lib/python3.10/dist-packages (from cudf-cu12) (12.2.0)\n",
            "Requirement already satisfied: fsspec>=0.6.0 in /usr/local/lib/python3.10/dist-packages (from cudf-cu12) (2024.10.0)\n",
            "Requirement already satisfied: libcudf-cu12==24.10.* in /usr/local/lib/python3.10/dist-packages (from cudf-cu12) (24.10.1)\n",
            "Requirement already satisfied: numba>=0.57 in /usr/local/lib/python3.10/dist-packages (from cudf-cu12) (0.60.0)\n",
            "Requirement already satisfied: numpy<3.0a0,>=1.23 in /usr/local/lib/python3.10/dist-packages (from cudf-cu12) (1.26.4)\n",
            "Requirement already satisfied: nvtx>=0.2.1 in /usr/local/lib/python3.10/dist-packages (from cudf-cu12) (0.2.10)\n",
            "Requirement already satisfied: packaging in /usr/local/lib/python3.10/dist-packages (from cudf-cu12) (24.2)\n",
            "Requirement already satisfied: pandas<2.2.3dev0,>=2.0 in /usr/local/lib/python3.10/dist-packages (from cudf-cu12) (2.2.2)\n",
            "Requirement already satisfied: pyarrow<18.0.0a0,>=14.0.0 in /usr/local/lib/python3.10/dist-packages (from cudf-cu12) (17.0.0)\n",
            "Requirement already satisfied: pylibcudf-cu12==24.10.* in /usr/local/lib/python3.10/dist-packages (from cudf-cu12) (24.10.1)\n",
            "Requirement already satisfied: pynvjitlink-cu12 in /usr/local/lib/python3.10/dist-packages (from cudf-cu12) (0.4.0)\n",
            "Requirement already satisfied: rich in /usr/local/lib/python3.10/dist-packages (from cudf-cu12) (13.9.4)\n",
            "Requirement already satisfied: rmm-cu12==24.10.* in /usr/local/lib/python3.10/dist-packages (from cudf-cu12) (24.10.0)\n",
            "Requirement already satisfied: typing_extensions>=4.0.0 in /usr/local/lib/python3.10/dist-packages (from cudf-cu12) (4.12.2)\n",
            "Requirement already satisfied: cython in /usr/local/lib/python3.10/dist-packages (from cuda-python<13.0a0,>=12.0->cudf-cu12) (3.0.11)\n",
            "Requirement already satisfied: fastrlock>=0.5 in /usr/local/lib/python3.10/dist-packages (from cupy-cuda12x>=12.0.0->cudf-cu12) (0.8.2)\n",
            "Requirement already satisfied: llvmlite<0.44,>=0.43.0dev0 in /usr/local/lib/python3.10/dist-packages (from numba>=0.57->cudf-cu12) (0.43.0)\n",
            "Requirement already satisfied: python-dateutil>=2.8.2 in /usr/local/lib/python3.10/dist-packages (from pandas<2.2.3dev0,>=2.0->cudf-cu12) (2.8.2)\n",
            "Requirement already satisfied: pytz>=2020.1 in /usr/local/lib/python3.10/dist-packages (from pandas<2.2.3dev0,>=2.0->cudf-cu12) (2024.2)\n",
            "Requirement already satisfied: tzdata>=2022.7 in /usr/local/lib/python3.10/dist-packages (from pandas<2.2.3dev0,>=2.0->cudf-cu12) (2024.2)\n",
            "Requirement already satisfied: markdown-it-py>=2.2.0 in /usr/local/lib/python3.10/dist-packages (from rich->cudf-cu12) (3.0.0)\n",
            "Requirement already satisfied: pygments<3.0.0,>=2.13.0 in /usr/local/lib/python3.10/dist-packages (from rich->cudf-cu12) (2.18.0)\n",
            "Requirement already satisfied: mdurl~=0.1 in /usr/local/lib/python3.10/dist-packages (from markdown-it-py>=2.2.0->rich->cudf-cu12) (0.1.2)\n",
            "Requirement already satisfied: six>=1.5 in /usr/local/lib/python3.10/dist-packages (from python-dateutil>=2.8.2->pandas<2.2.3dev0,>=2.0->cudf-cu12) (1.16.0)\n"
          ]
        }
      ]
    },
    {
      "cell_type": "code",
      "source": [
        "import rmm\n",
        "import cudf\n",
        "rmm.reinitialize(pool_allocator=True, managed_memory=True)\n",
        "print(\"RAPIDS cuDF is using GPU memory:\", rmm.is_initialized())"
      ],
      "metadata": {
        "trusted": true,
        "execution": {
          "iopub.status.busy": "2024-11-21T15:56:00.105075Z",
          "iopub.execute_input": "2024-11-21T15:56:00.105516Z",
          "iopub.status.idle": "2024-11-21T15:56:00.825162Z",
          "shell.execute_reply.started": "2024-11-21T15:56:00.10546Z",
          "shell.execute_reply": "2024-11-21T15:56:00.823729Z"
        },
        "colab": {
          "base_uri": "https://localhost:8080/"
        },
        "id": "LgQkBpLncHNU",
        "outputId": "e42865e4-bba0-4ac8-97cd-52e879b23c21"
      },
      "outputs": [
        {
          "output_type": "stream",
          "name": "stdout",
          "text": [
            "RAPIDS cuDF is using GPU memory: True\n"
          ]
        }
      ],
      "execution_count": 10
    },
    {
      "cell_type": "code",
      "source": [
        "import cupy as cp\n",
        "\n",
        "def check_memory():\n",
        "    memory_pool = cp.get_default_memory_pool()\n",
        "    total_memory = cp.cuda.Device(0).mem_info[0]  # Total memory available\n",
        "    used_memory = memory_pool.used_bytes()       # Memory allocated by the pool\n",
        "    free_memory = total_memory - used_memory\n",
        "    print(f\"GPU Memory - Total: {total_memory / (1024**3):.2f} GB, Used: {used_memory / (1024**3):.2f} GB, Free: {free_memory / (1024**3):.2f} GB\")\n",
        "\n",
        "check_memory()"
      ],
      "metadata": {
        "colab": {
          "base_uri": "https://localhost:8080/"
        },
        "id": "kqJd1wf9fOUX",
        "outputId": "69be04dc-3fae-4934-daa2-88a1e0943774"
      },
      "execution_count": 11,
      "outputs": [
        {
          "output_type": "stream",
          "name": "stdout",
          "text": [
            "GPU Memory - Total: 14.65 GB, Used: 0.00 GB, Free: 14.65 GB\n"
          ]
        }
      ]
    },
    {
      "cell_type": "code",
      "source": [
        "movielens_20m_dataset_path = kagglehub.dataset_download('grouplens/movielens-20m-dataset')\n",
        "#Remove the extra space at the start of the loop\n",
        "for dirname, _, filenames in os.walk('/root/.cache/kagglehub/datasets/grouplens/movielens-20m-dataset/versions/1'):\n",
        "    #Your Code Logic for inside the for loop\n",
        "    pass # Placeholder to show loop block"
      ],
      "metadata": {
        "id": "Ht9w9iIApxd3"
      },
      "execution_count": 12,
      "outputs": []
    },
    {
      "cell_type": "code",
      "source": [
        "ratings_df = cudf.read_csv(\"/root/.cache/kagglehub/datasets/grouplens/movielens-20m-dataset/versions/1/rating.csv\")\n",
        "links_df = cudf.read_csv(\"/root/.cache/kagglehub/datasets/grouplens/movielens-20m-dataset/versions/1/link.csv\")\n",
        "genome_tags_df = cudf.read_csv(\"/root/.cache/kagglehub/datasets/grouplens/movielens-20m-dataset/versions/1/genome_tags.csv\")\n",
        "genome_scores_df = cudf.read_csv(\"/root/.cache/kagglehub/datasets/grouplens/movielens-20m-dataset/versions/1/genome_scores.csv\")\n",
        "tags_df = cudf.read_csv(\"/root/.cache/kagglehub/datasets/grouplens/movielens-20m-dataset/versions/1/tag.csv\")\n",
        "movies_df = cudf.read_csv(\"/root/.cache/kagglehub/datasets/grouplens/movielens-20m-dataset/versions/1/movie.csv\")\n"
      ],
      "metadata": {
        "id": "dMPX14dVdDIo"
      },
      "execution_count": 15,
      "outputs": []
    },
    {
      "cell_type": "code",
      "source": [
        "check_memory()"
      ],
      "metadata": {
        "colab": {
          "base_uri": "https://localhost:8080/"
        },
        "id": "UYbW2owMfdVm",
        "outputId": "d496eadf-4b1a-4e99-cd0f-4194b690c455"
      },
      "execution_count": 13,
      "outputs": [
        {
          "output_type": "stream",
          "name": "stdout",
          "text": [
            "GPU Memory - Total: 14.65 GB, Used: 0.00 GB, Free: 14.65 GB\n"
          ]
        }
      ]
    },
    {
      "cell_type": "code",
      "source": [
        "print(\"ratings_df:\",ratings_df.columns)\n",
        "print(\"links_df:\",links_df.columns)\n",
        "print(\"genome_tags_df:\",genome_tags_df.columns)\n",
        "print(\"genome_scores_df:\",genome_scores_df.columns)\n",
        "print(\"tags_df:\",tags_df.columns)\n",
        "print(\"movies_df:\",movies_df.columns)"
      ],
      "metadata": {
        "colab": {
          "base_uri": "https://localhost:8080/"
        },
        "id": "wyfdN1PedZpg",
        "outputId": "f0d2b7c0-0eb8-4283-9b00-7b919428fa47"
      },
      "execution_count": 16,
      "outputs": [
        {
          "output_type": "stream",
          "name": "stdout",
          "text": [
            "ratings_df: Index(['userId', 'movieId', 'rating', 'timestamp'], dtype='object')\n",
            "links_df: Index(['movieId', 'imdbId', 'tmdbId'], dtype='object')\n",
            "genome_tags_df: Index(['tagId', 'tag'], dtype='object')\n",
            "genome_scores_df: Index(['movieId', 'tagId', 'relevance'], dtype='object')\n",
            "tags_df: Index(['userId', 'movieId', 'tag', 'timestamp'], dtype='object')\n",
            "movies_df: Index(['movieId', 'title', 'genres'], dtype='object')\n"
          ]
        }
      ]
    },
    {
      "cell_type": "code",
      "source": [
        "import gc\n",
        "rmm.reinitialize(pool_allocator=True, managed_memory=True)  # Reset GPU memory\n",
        "movies_links = movies_df.merge(links_df, on=\"movieId\", how=\"left\")\n",
        "del links_df  # Free up memory\n",
        "gc.collect()\n",
        "movies_links.head()"
      ],
      "metadata": {
        "colab": {
          "base_uri": "https://localhost:8080/",
          "height": 201
        },
        "id": "D7VWRIbidbQW",
        "outputId": "4870cf79-60db-4d47-cc9b-78fd04a0bfba"
      },
      "execution_count": 17,
      "outputs": [
        {
          "output_type": "execute_result",
          "data": {
            "text/plain": [
              "   movieId                           title  \\\n",
              "0     2293                 Shadrach (1998)   \n",
              "1     2294                     Antz (1998)   \n",
              "2     2295           Impostors, The (1998)   \n",
              "3     2296  Night at the Roxbury, A (1998)   \n",
              "4     2297     What Dreams May Come (1998)   \n",
              "\n",
              "                                        genres  imdbId  tmdbId  \n",
              "0                                        Drama  144604   73351  \n",
              "1  Adventure|Animation|Children|Comedy|Fantasy  120587    8916  \n",
              "2                                       Comedy  120823   28134  \n",
              "3                                       Comedy  120770    9429  \n",
              "4              Adventure|Drama|Fantasy|Romance  120889   12159  "
            ],
            "text/html": [
              "<div>\n",
              "<style scoped>\n",
              "    .dataframe tbody tr th:only-of-type {\n",
              "        vertical-align: middle;\n",
              "    }\n",
              "\n",
              "    .dataframe tbody tr th {\n",
              "        vertical-align: top;\n",
              "    }\n",
              "\n",
              "    .dataframe thead th {\n",
              "        text-align: right;\n",
              "    }\n",
              "</style>\n",
              "<table border=\"1\" class=\"dataframe\">\n",
              "  <thead>\n",
              "    <tr style=\"text-align: right;\">\n",
              "      <th></th>\n",
              "      <th>movieId</th>\n",
              "      <th>title</th>\n",
              "      <th>genres</th>\n",
              "      <th>imdbId</th>\n",
              "      <th>tmdbId</th>\n",
              "    </tr>\n",
              "  </thead>\n",
              "  <tbody>\n",
              "    <tr>\n",
              "      <th>0</th>\n",
              "      <td>2293</td>\n",
              "      <td>Shadrach (1998)</td>\n",
              "      <td>Drama</td>\n",
              "      <td>144604</td>\n",
              "      <td>73351</td>\n",
              "    </tr>\n",
              "    <tr>\n",
              "      <th>1</th>\n",
              "      <td>2294</td>\n",
              "      <td>Antz (1998)</td>\n",
              "      <td>Adventure|Animation|Children|Comedy|Fantasy</td>\n",
              "      <td>120587</td>\n",
              "      <td>8916</td>\n",
              "    </tr>\n",
              "    <tr>\n",
              "      <th>2</th>\n",
              "      <td>2295</td>\n",
              "      <td>Impostors, The (1998)</td>\n",
              "      <td>Comedy</td>\n",
              "      <td>120823</td>\n",
              "      <td>28134</td>\n",
              "    </tr>\n",
              "    <tr>\n",
              "      <th>3</th>\n",
              "      <td>2296</td>\n",
              "      <td>Night at the Roxbury, A (1998)</td>\n",
              "      <td>Comedy</td>\n",
              "      <td>120770</td>\n",
              "      <td>9429</td>\n",
              "    </tr>\n",
              "    <tr>\n",
              "      <th>4</th>\n",
              "      <td>2297</td>\n",
              "      <td>What Dreams May Come (1998)</td>\n",
              "      <td>Adventure|Drama|Fantasy|Romance</td>\n",
              "      <td>120889</td>\n",
              "      <td>12159</td>\n",
              "    </tr>\n",
              "  </tbody>\n",
              "</table>\n",
              "</div>"
            ]
          },
          "metadata": {},
          "execution_count": 17
        }
      ]
    },
    {
      "cell_type": "code",
      "source": [
        "# Merge ratings with movies\n",
        "rmm.reinitialize(pool_allocator=True, managed_memory=True)  # Reset GPU memory\n",
        "ratings_movies = ratings_df.merge(movies_links, on=\"movieId\", how=\"left\")\n",
        "del ratings_df, movies_links  # Free up memory\n",
        "gc.collect()\n",
        "ratings_movies.head()"
      ],
      "metadata": {
        "colab": {
          "base_uri": "https://localhost:8080/",
          "height": 283
        },
        "id": "4W5cFU7ddecU",
        "outputId": "e8109e38-1a90-4973-ec3e-fe67de5de0bf"
      },
      "execution_count": 18,
      "outputs": [
        {
          "output_type": "execute_result",
          "data": {
            "text/plain": [
              "   userId  movieId  rating            timestamp  \\\n",
              "0      11    37380     2.0  2009-01-01 05:26:37   \n",
              "1      11    37386     1.5  2009-01-01 04:27:36   \n",
              "2      11    37830     5.0  2009-01-01 05:40:38   \n",
              "3      11    39446     1.5  2009-01-02 00:37:45   \n",
              "4      11    40339     3.0  2009-01-01 05:51:58   \n",
              "\n",
              "                                       title  \\\n",
              "0                                Doom (2005)   \n",
              "1                           Aeon Flux (2005)   \n",
              "2  Final Fantasy VII: Advent Children (2004)   \n",
              "3                              Saw II (2005)   \n",
              "4                      Chicken Little (2005)   \n",
              "\n",
              "                                              genres  imdbId  tmdbId  \n",
              "0                               Action|Horror|Sci-Fi  419706    8814  \n",
              "1                                      Action|Sci-Fi  402022    8202  \n",
              "2          Action|Adventure|Animation|Fantasy|Sci-Fi  385700     647  \n",
              "3                                    Horror|Thriller  432348     215  \n",
              "4  Action|Adventure|Animation|Children|Comedy|Sci-Fi  371606    9982  "
            ],
            "text/html": [
              "<div>\n",
              "<style scoped>\n",
              "    .dataframe tbody tr th:only-of-type {\n",
              "        vertical-align: middle;\n",
              "    }\n",
              "\n",
              "    .dataframe tbody tr th {\n",
              "        vertical-align: top;\n",
              "    }\n",
              "\n",
              "    .dataframe thead th {\n",
              "        text-align: right;\n",
              "    }\n",
              "</style>\n",
              "<table border=\"1\" class=\"dataframe\">\n",
              "  <thead>\n",
              "    <tr style=\"text-align: right;\">\n",
              "      <th></th>\n",
              "      <th>userId</th>\n",
              "      <th>movieId</th>\n",
              "      <th>rating</th>\n",
              "      <th>timestamp</th>\n",
              "      <th>title</th>\n",
              "      <th>genres</th>\n",
              "      <th>imdbId</th>\n",
              "      <th>tmdbId</th>\n",
              "    </tr>\n",
              "  </thead>\n",
              "  <tbody>\n",
              "    <tr>\n",
              "      <th>0</th>\n",
              "      <td>11</td>\n",
              "      <td>37380</td>\n",
              "      <td>2.0</td>\n",
              "      <td>2009-01-01 05:26:37</td>\n",
              "      <td>Doom (2005)</td>\n",
              "      <td>Action|Horror|Sci-Fi</td>\n",
              "      <td>419706</td>\n",
              "      <td>8814</td>\n",
              "    </tr>\n",
              "    <tr>\n",
              "      <th>1</th>\n",
              "      <td>11</td>\n",
              "      <td>37386</td>\n",
              "      <td>1.5</td>\n",
              "      <td>2009-01-01 04:27:36</td>\n",
              "      <td>Aeon Flux (2005)</td>\n",
              "      <td>Action|Sci-Fi</td>\n",
              "      <td>402022</td>\n",
              "      <td>8202</td>\n",
              "    </tr>\n",
              "    <tr>\n",
              "      <th>2</th>\n",
              "      <td>11</td>\n",
              "      <td>37830</td>\n",
              "      <td>5.0</td>\n",
              "      <td>2009-01-01 05:40:38</td>\n",
              "      <td>Final Fantasy VII: Advent Children (2004)</td>\n",
              "      <td>Action|Adventure|Animation|Fantasy|Sci-Fi</td>\n",
              "      <td>385700</td>\n",
              "      <td>647</td>\n",
              "    </tr>\n",
              "    <tr>\n",
              "      <th>3</th>\n",
              "      <td>11</td>\n",
              "      <td>39446</td>\n",
              "      <td>1.5</td>\n",
              "      <td>2009-01-02 00:37:45</td>\n",
              "      <td>Saw II (2005)</td>\n",
              "      <td>Horror|Thriller</td>\n",
              "      <td>432348</td>\n",
              "      <td>215</td>\n",
              "    </tr>\n",
              "    <tr>\n",
              "      <th>4</th>\n",
              "      <td>11</td>\n",
              "      <td>40339</td>\n",
              "      <td>3.0</td>\n",
              "      <td>2009-01-01 05:51:58</td>\n",
              "      <td>Chicken Little (2005)</td>\n",
              "      <td>Action|Adventure|Animation|Children|Comedy|Sci-Fi</td>\n",
              "      <td>371606</td>\n",
              "      <td>9982</td>\n",
              "    </tr>\n",
              "  </tbody>\n",
              "</table>\n",
              "</div>"
            ]
          },
          "metadata": {},
          "execution_count": 18
        }
      ]
    },
    {
      "cell_type": "code",
      "source": [
        "rmm.reinitialize(pool_allocator=True, managed_memory=True)  # Reset GPU memory\n",
        "# Merge genome scores with genome tags\n",
        "genome_data = genome_scores_df.merge(genome_tags_df, on=\"tagId\", how=\"left\")\n",
        "del genome_tags_df  # Free up memory\n",
        "gc.collect()\n",
        "genome_data.head()"
      ],
      "metadata": {
        "colab": {
          "base_uri": "https://localhost:8080/",
          "height": 201
        },
        "id": "j4tgHOWVdkGq",
        "outputId": "32d1794e-801e-4cbf-fe45-c0b70d261097"
      },
      "execution_count": 19,
      "outputs": [
        {
          "output_type": "execute_result",
          "data": {
            "text/plain": [
              "   movieId  tagId  relevance               tag\n",
              "0        2    537    0.04125        immigrants\n",
              "1        2    538    0.08400       immortality\n",
              "2        2    539    0.01425            incest\n",
              "3        2    540    0.05825  independent film\n",
              "4        2    541    0.00700             india"
            ],
            "text/html": [
              "<div>\n",
              "<style scoped>\n",
              "    .dataframe tbody tr th:only-of-type {\n",
              "        vertical-align: middle;\n",
              "    }\n",
              "\n",
              "    .dataframe tbody tr th {\n",
              "        vertical-align: top;\n",
              "    }\n",
              "\n",
              "    .dataframe thead th {\n",
              "        text-align: right;\n",
              "    }\n",
              "</style>\n",
              "<table border=\"1\" class=\"dataframe\">\n",
              "  <thead>\n",
              "    <tr style=\"text-align: right;\">\n",
              "      <th></th>\n",
              "      <th>movieId</th>\n",
              "      <th>tagId</th>\n",
              "      <th>relevance</th>\n",
              "      <th>tag</th>\n",
              "    </tr>\n",
              "  </thead>\n",
              "  <tbody>\n",
              "    <tr>\n",
              "      <th>0</th>\n",
              "      <td>2</td>\n",
              "      <td>537</td>\n",
              "      <td>0.04125</td>\n",
              "      <td>immigrants</td>\n",
              "    </tr>\n",
              "    <tr>\n",
              "      <th>1</th>\n",
              "      <td>2</td>\n",
              "      <td>538</td>\n",
              "      <td>0.08400</td>\n",
              "      <td>immortality</td>\n",
              "    </tr>\n",
              "    <tr>\n",
              "      <th>2</th>\n",
              "      <td>2</td>\n",
              "      <td>539</td>\n",
              "      <td>0.01425</td>\n",
              "      <td>incest</td>\n",
              "    </tr>\n",
              "    <tr>\n",
              "      <th>3</th>\n",
              "      <td>2</td>\n",
              "      <td>540</td>\n",
              "      <td>0.05825</td>\n",
              "      <td>independent film</td>\n",
              "    </tr>\n",
              "    <tr>\n",
              "      <th>4</th>\n",
              "      <td>2</td>\n",
              "      <td>541</td>\n",
              "      <td>0.00700</td>\n",
              "      <td>india</td>\n",
              "    </tr>\n",
              "  </tbody>\n",
              "</table>\n",
              "</div>"
            ]
          },
          "metadata": {},
          "execution_count": 19
        }
      ]
    },
    {
      "cell_type": "code",
      "source": [
        "rmm.reinitialize(pool_allocator=True, managed_memory=True)\n",
        "# Merge tags with movies\n",
        "tags_movies = tags_df.merge(movies_df, on=\"movieId\", how=\"left\")\n",
        "del tags_df  # Free up memory\n",
        "gc.collect()\n",
        "tags_movies.head()"
      ],
      "metadata": {
        "colab": {
          "base_uri": "https://localhost:8080/",
          "height": 201
        },
        "id": "92y5cbxsdlDf",
        "outputId": "415f51da-eda2-4954-dd7e-db461cedc4b6"
      },
      "execution_count": 20,
      "outputs": [
        {
          "output_type": "execute_result",
          "data": {
            "text/plain": [
              "   userId  movieId                       tag            timestamp  \\\n",
              "0    1741      924         adapted from:book  2007-04-28 23:15:36   \n",
              "1    1741      924   artificial intelligence  2007-06-23 16:31:36   \n",
              "2    1741      924   author:Arthur C. Clarke  2007-06-23 16:31:31   \n",
              "3    1741      924              related:2001  2009-08-09 02:44:31   \n",
              "4    1741      924  setting:space/space ship  2008-10-11 02:00:42   \n",
              "\n",
              "                          title                  genres  \n",
              "0  2001: A Space Odyssey (1968)  Adventure|Drama|Sci-Fi  \n",
              "1  2001: A Space Odyssey (1968)  Adventure|Drama|Sci-Fi  \n",
              "2  2001: A Space Odyssey (1968)  Adventure|Drama|Sci-Fi  \n",
              "3  2001: A Space Odyssey (1968)  Adventure|Drama|Sci-Fi  \n",
              "4  2001: A Space Odyssey (1968)  Adventure|Drama|Sci-Fi  "
            ],
            "text/html": [
              "<div>\n",
              "<style scoped>\n",
              "    .dataframe tbody tr th:only-of-type {\n",
              "        vertical-align: middle;\n",
              "    }\n",
              "\n",
              "    .dataframe tbody tr th {\n",
              "        vertical-align: top;\n",
              "    }\n",
              "\n",
              "    .dataframe thead th {\n",
              "        text-align: right;\n",
              "    }\n",
              "</style>\n",
              "<table border=\"1\" class=\"dataframe\">\n",
              "  <thead>\n",
              "    <tr style=\"text-align: right;\">\n",
              "      <th></th>\n",
              "      <th>userId</th>\n",
              "      <th>movieId</th>\n",
              "      <th>tag</th>\n",
              "      <th>timestamp</th>\n",
              "      <th>title</th>\n",
              "      <th>genres</th>\n",
              "    </tr>\n",
              "  </thead>\n",
              "  <tbody>\n",
              "    <tr>\n",
              "      <th>0</th>\n",
              "      <td>1741</td>\n",
              "      <td>924</td>\n",
              "      <td>adapted from:book</td>\n",
              "      <td>2007-04-28 23:15:36</td>\n",
              "      <td>2001: A Space Odyssey (1968)</td>\n",
              "      <td>Adventure|Drama|Sci-Fi</td>\n",
              "    </tr>\n",
              "    <tr>\n",
              "      <th>1</th>\n",
              "      <td>1741</td>\n",
              "      <td>924</td>\n",
              "      <td>artificial intelligence</td>\n",
              "      <td>2007-06-23 16:31:36</td>\n",
              "      <td>2001: A Space Odyssey (1968)</td>\n",
              "      <td>Adventure|Drama|Sci-Fi</td>\n",
              "    </tr>\n",
              "    <tr>\n",
              "      <th>2</th>\n",
              "      <td>1741</td>\n",
              "      <td>924</td>\n",
              "      <td>author:Arthur C. Clarke</td>\n",
              "      <td>2007-06-23 16:31:31</td>\n",
              "      <td>2001: A Space Odyssey (1968)</td>\n",
              "      <td>Adventure|Drama|Sci-Fi</td>\n",
              "    </tr>\n",
              "    <tr>\n",
              "      <th>3</th>\n",
              "      <td>1741</td>\n",
              "      <td>924</td>\n",
              "      <td>related:2001</td>\n",
              "      <td>2009-08-09 02:44:31</td>\n",
              "      <td>2001: A Space Odyssey (1968)</td>\n",
              "      <td>Adventure|Drama|Sci-Fi</td>\n",
              "    </tr>\n",
              "    <tr>\n",
              "      <th>4</th>\n",
              "      <td>1741</td>\n",
              "      <td>924</td>\n",
              "      <td>setting:space/space ship</td>\n",
              "      <td>2008-10-11 02:00:42</td>\n",
              "      <td>2001: A Space Odyssey (1968)</td>\n",
              "      <td>Adventure|Drama|Sci-Fi</td>\n",
              "    </tr>\n",
              "  </tbody>\n",
              "</table>\n",
              "</div>"
            ]
          },
          "metadata": {},
          "execution_count": 20
        }
      ]
    },
    {
      "cell_type": "code",
      "source": [
        "check_memory()"
      ],
      "metadata": {
        "colab": {
          "base_uri": "https://localhost:8080/"
        },
        "id": "9RNoAbiNf1HF",
        "outputId": "b83d36c7-ee0b-4c2a-cc1b-a796cb9918c3"
      },
      "execution_count": 21,
      "outputs": [
        {
          "output_type": "stream",
          "name": "stdout",
          "text": [
            "GPU Memory - Total: 9.14 GB, Used: 0.00 GB, Free: 9.14 GB\n"
          ]
        }
      ]
    },
    {
      "cell_type": "code",
      "source": [
        "print(\"ratings_movies:\",ratings_movies.columns)\n",
        "print(\"genome_data:\",genome_data.columns)\n",
        "print(\"tags_movies:\",tags_movies.columns)"
      ],
      "metadata": {
        "colab": {
          "base_uri": "https://localhost:8080/"
        },
        "id": "07v4JiPido6j",
        "outputId": "b38cf99b-ee37-440f-db9a-3661283abcda"
      },
      "execution_count": 22,
      "outputs": [
        {
          "output_type": "stream",
          "name": "stdout",
          "text": [
            "ratings_movies: Index(['userId', 'movieId', 'rating', 'timestamp', 'title', 'genres', 'imdbId',\n",
            "       'tmdbId'],\n",
            "      dtype='object')\n",
            "genome_data: Index(['movieId', 'tagId', 'relevance', 'tag'], dtype='object')\n",
            "tags_movies: Index(['userId', 'movieId', 'tag', 'timestamp', 'title', 'genres'], dtype='object')\n"
          ]
        }
      ]
    },
    {
      "cell_type": "code",
      "source": [
        "ratings_movies = ratings_movies[[\"userId\", \"movieId\", \"rating\", \"title\", \"genres\",\"timestamp\"]]\n",
        "genome_data = genome_data[[\"movieId\", \"tag\", \"relevance\"]]\n",
        "tags_movies = tags_movies[[\"userId\", \"movieId\", \"tag\"]]\n",
        "#Remove repeated columns"
      ],
      "metadata": {
        "id": "znmkRSHpdrB3"
      },
      "execution_count": 23,
      "outputs": []
    },
    {
      "cell_type": "code",
      "source": [
        "print(\"ratings_movies:\",ratings_movies.info())\n",
        "print(\"genome_data:\",genome_data.info())\n",
        "print(\"tags_movies:\",tags_movies.info())"
      ],
      "metadata": {
        "colab": {
          "base_uri": "https://localhost:8080/"
        },
        "id": "SNZEx2xJdrzu",
        "outputId": "ffd560a5-e4e6-477f-a9b2-6812a81a4cec"
      },
      "execution_count": 24,
      "outputs": [
        {
          "output_type": "stream",
          "name": "stdout",
          "text": [
            "<class 'cudf.core.dataframe.DataFrame'>\n",
            "RangeIndex: 20000263 entries, 0 to 20000262\n",
            "Data columns (total 6 columns):\n",
            " #   Column     Dtype\n",
            "---  ------     -----\n",
            " 0   userId     int64\n",
            " 1   movieId    int64\n",
            " 2   rating     float64\n",
            " 3   title      object\n",
            " 4   genres     object\n",
            " 5   timestamp  object\n",
            "dtypes: float64(1), int64(2), object(3)\n",
            "memory usage: 1.8+ GB\n",
            "ratings_movies: None\n",
            "<class 'cudf.core.dataframe.DataFrame'>\n",
            "RangeIndex: 11709768 entries, 0 to 11709767\n",
            "Data columns (total 3 columns):\n",
            " #   Column     Dtype\n",
            "---  ------     -----\n",
            " 0   movieId    int64\n",
            " 1   tag        object\n",
            " 2   relevance  float64\n",
            "dtypes: float64(1), int64(1), object(1)\n",
            "memory usage: 335.2+ MB\n",
            "genome_data: None\n",
            "<class 'cudf.core.dataframe.DataFrame'>\n",
            "RangeIndex: 465426 entries, 0 to 465425\n",
            "Data columns (total 3 columns):\n",
            " #   Column   Non-Null Count   Dtype\n",
            "---  ------   --------------   -----\n",
            " 0   userId   465426 non-null  int64\n",
            " 1   movieId  465426 non-null  int64\n",
            " 2   tag      465426 non-null  object\n",
            "dtypes: int64(2), object(1)\n",
            "memory usage: 13.8+ MB\n",
            "tags_movies: None\n"
          ]
        }
      ]
    },
    {
      "cell_type": "code",
      "source": [
        "ratings_movies.isnull().sum()"
      ],
      "metadata": {
        "id": "RsmudLZ2qvEP",
        "outputId": "8d729999-1c61-415e-8cb5-355655e76427",
        "colab": {
          "base_uri": "https://localhost:8080/"
        }
      },
      "execution_count": 25,
      "outputs": [
        {
          "output_type": "execute_result",
          "data": {
            "text/plain": [
              "userId       0\n",
              "movieId      0\n",
              "rating       0\n",
              "title        0\n",
              "genres       0\n",
              "timestamp    0\n",
              "dtype: int64"
            ]
          },
          "metadata": {},
          "execution_count": 25
        }
      ]
    },
    {
      "cell_type": "code",
      "source": [
        "ratings_movies.drop_duplicates()"
      ],
      "metadata": {
        "id": "tsK0bPNxv5PH",
        "outputId": "ad2a0e6e-a3cc-4ebd-e4a1-4adac7d180f5",
        "colab": {
          "base_uri": "https://localhost:8080/",
          "height": 576
        }
      },
      "execution_count": 26,
      "outputs": [
        {
          "output_type": "execute_result",
          "data": {
            "text/plain": [
              "          userId  movieId  rating  \\\n",
              "0             11    37380     2.0   \n",
              "1             11    37386     1.5   \n",
              "2             11    37830     5.0   \n",
              "3             11    39446     1.5   \n",
              "4             11    40339     3.0   \n",
              "...          ...      ...     ...   \n",
              "20000258  138493     2696     4.0   \n",
              "20000259  138493     2710     3.0   \n",
              "20000260  138493     2716     4.0   \n",
              "20000261  138493     2422     1.0   \n",
              "20000262  138493     2709     5.0   \n",
              "\n",
              "                                                title  \\\n",
              "0                                         Doom (2005)   \n",
              "1                                    Aeon Flux (2005)   \n",
              "2           Final Fantasy VII: Advent Children (2004)   \n",
              "3                                       Saw II (2005)   \n",
              "4                               Chicken Little (2005)   \n",
              "...                                               ...   \n",
              "20000258  Dinner Game, The (Dîner de cons, Le) (1998)   \n",
              "20000259              Blair Witch Project, The (1999)   \n",
              "20000260   Ghostbusters (a.k.a. Ghost Busters) (1984)   \n",
              "20000261             Karate Kid, Part III, The (1989)   \n",
              "20000262                    Muppets From Space (1999)   \n",
              "\n",
              "                                                     genres  \\\n",
              "0                                      Action|Horror|Sci-Fi   \n",
              "1                                             Action|Sci-Fi   \n",
              "2                 Action|Adventure|Animation|Fantasy|Sci-Fi   \n",
              "3                                           Horror|Thriller   \n",
              "4         Action|Adventure|Animation|Children|Comedy|Sci-Fi   \n",
              "...                                                     ...   \n",
              "20000258                                             Comedy   \n",
              "20000259                              Drama|Horror|Thriller   \n",
              "20000260                               Action|Comedy|Sci-Fi   \n",
              "20000261                    Action|Adventure|Children|Drama   \n",
              "20000262                                    Children|Comedy   \n",
              "\n",
              "                    timestamp  \n",
              "0         2009-01-01 05:26:37  \n",
              "1         2009-01-01 04:27:36  \n",
              "2         2009-01-01 05:40:38  \n",
              "3         2009-01-02 00:37:45  \n",
              "4         2009-01-01 05:51:58  \n",
              "...                       ...  \n",
              "20000258  2009-11-13 17:55:27  \n",
              "20000259  2009-10-17 18:56:32  \n",
              "20000260  2009-11-16 16:52:05  \n",
              "20000261  2009-11-13 17:53:07  \n",
              "20000262  2009-10-17 19:23:00  \n",
              "\n",
              "[20000263 rows x 6 columns]"
            ],
            "text/html": [
              "<div>\n",
              "<style scoped>\n",
              "    .dataframe tbody tr th:only-of-type {\n",
              "        vertical-align: middle;\n",
              "    }\n",
              "\n",
              "    .dataframe tbody tr th {\n",
              "        vertical-align: top;\n",
              "    }\n",
              "\n",
              "    .dataframe thead th {\n",
              "        text-align: right;\n",
              "    }\n",
              "</style>\n",
              "<table border=\"1\" class=\"dataframe\">\n",
              "  <thead>\n",
              "    <tr style=\"text-align: right;\">\n",
              "      <th></th>\n",
              "      <th>userId</th>\n",
              "      <th>movieId</th>\n",
              "      <th>rating</th>\n",
              "      <th>title</th>\n",
              "      <th>genres</th>\n",
              "      <th>timestamp</th>\n",
              "    </tr>\n",
              "  </thead>\n",
              "  <tbody>\n",
              "    <tr>\n",
              "      <th>0</th>\n",
              "      <td>11</td>\n",
              "      <td>37380</td>\n",
              "      <td>2.0</td>\n",
              "      <td>Doom (2005)</td>\n",
              "      <td>Action|Horror|Sci-Fi</td>\n",
              "      <td>2009-01-01 05:26:37</td>\n",
              "    </tr>\n",
              "    <tr>\n",
              "      <th>1</th>\n",
              "      <td>11</td>\n",
              "      <td>37386</td>\n",
              "      <td>1.5</td>\n",
              "      <td>Aeon Flux (2005)</td>\n",
              "      <td>Action|Sci-Fi</td>\n",
              "      <td>2009-01-01 04:27:36</td>\n",
              "    </tr>\n",
              "    <tr>\n",
              "      <th>2</th>\n",
              "      <td>11</td>\n",
              "      <td>37830</td>\n",
              "      <td>5.0</td>\n",
              "      <td>Final Fantasy VII: Advent Children (2004)</td>\n",
              "      <td>Action|Adventure|Animation|Fantasy|Sci-Fi</td>\n",
              "      <td>2009-01-01 05:40:38</td>\n",
              "    </tr>\n",
              "    <tr>\n",
              "      <th>3</th>\n",
              "      <td>11</td>\n",
              "      <td>39446</td>\n",
              "      <td>1.5</td>\n",
              "      <td>Saw II (2005)</td>\n",
              "      <td>Horror|Thriller</td>\n",
              "      <td>2009-01-02 00:37:45</td>\n",
              "    </tr>\n",
              "    <tr>\n",
              "      <th>4</th>\n",
              "      <td>11</td>\n",
              "      <td>40339</td>\n",
              "      <td>3.0</td>\n",
              "      <td>Chicken Little (2005)</td>\n",
              "      <td>Action|Adventure|Animation|Children|Comedy|Sci-Fi</td>\n",
              "      <td>2009-01-01 05:51:58</td>\n",
              "    </tr>\n",
              "    <tr>\n",
              "      <th>...</th>\n",
              "      <td>...</td>\n",
              "      <td>...</td>\n",
              "      <td>...</td>\n",
              "      <td>...</td>\n",
              "      <td>...</td>\n",
              "      <td>...</td>\n",
              "    </tr>\n",
              "    <tr>\n",
              "      <th>20000258</th>\n",
              "      <td>138493</td>\n",
              "      <td>2696</td>\n",
              "      <td>4.0</td>\n",
              "      <td>Dinner Game, The (Dîner de cons, Le) (1998)</td>\n",
              "      <td>Comedy</td>\n",
              "      <td>2009-11-13 17:55:27</td>\n",
              "    </tr>\n",
              "    <tr>\n",
              "      <th>20000259</th>\n",
              "      <td>138493</td>\n",
              "      <td>2710</td>\n",
              "      <td>3.0</td>\n",
              "      <td>Blair Witch Project, The (1999)</td>\n",
              "      <td>Drama|Horror|Thriller</td>\n",
              "      <td>2009-10-17 18:56:32</td>\n",
              "    </tr>\n",
              "    <tr>\n",
              "      <th>20000260</th>\n",
              "      <td>138493</td>\n",
              "      <td>2716</td>\n",
              "      <td>4.0</td>\n",
              "      <td>Ghostbusters (a.k.a. Ghost Busters) (1984)</td>\n",
              "      <td>Action|Comedy|Sci-Fi</td>\n",
              "      <td>2009-11-16 16:52:05</td>\n",
              "    </tr>\n",
              "    <tr>\n",
              "      <th>20000261</th>\n",
              "      <td>138493</td>\n",
              "      <td>2422</td>\n",
              "      <td>1.0</td>\n",
              "      <td>Karate Kid, Part III, The (1989)</td>\n",
              "      <td>Action|Adventure|Children|Drama</td>\n",
              "      <td>2009-11-13 17:53:07</td>\n",
              "    </tr>\n",
              "    <tr>\n",
              "      <th>20000262</th>\n",
              "      <td>138493</td>\n",
              "      <td>2709</td>\n",
              "      <td>5.0</td>\n",
              "      <td>Muppets From Space (1999)</td>\n",
              "      <td>Children|Comedy</td>\n",
              "      <td>2009-10-17 19:23:00</td>\n",
              "    </tr>\n",
              "  </tbody>\n",
              "</table>\n",
              "<p>20000263 rows × 6 columns</p>\n",
              "</div>"
            ]
          },
          "metadata": {},
          "execution_count": 26
        }
      ]
    },
    {
      "cell_type": "markdown",
      "source": [
        "this merged dataset in clean , there aren't missing values"
      ],
      "metadata": {
        "id": "_bgWYwGjrLkf"
      }
    },
    {
      "cell_type": "code",
      "source": [
        "tags_movies.isnull().sum()"
      ],
      "metadata": {
        "id": "cTVsiiemrT7y",
        "outputId": "655a785b-27f0-4474-957c-73c13ec7d349",
        "colab": {
          "base_uri": "https://localhost:8080/"
        }
      },
      "execution_count": 25,
      "outputs": [
        {
          "output_type": "execute_result",
          "data": {
            "text/plain": [
              "userId     0\n",
              "movieId    0\n",
              "tag        0\n",
              "dtype: int64"
            ]
          },
          "metadata": {},
          "execution_count": 25
        }
      ]
    },
    {
      "cell_type": "code",
      "source": [
        "genome_data.isnull().sum()"
      ],
      "metadata": {
        "id": "mDPhPgbprnqD",
        "outputId": "99149548-e64f-4116-d6f1-27385b3db9d5",
        "colab": {
          "base_uri": "https://localhost:8080/"
        }
      },
      "execution_count": 26,
      "outputs": [
        {
          "output_type": "execute_result",
          "data": {
            "text/plain": [
              "movieId      0\n",
              "tag          0\n",
              "relevance    0\n",
              "dtype: int64"
            ]
          },
          "metadata": {},
          "execution_count": 26
        }
      ]
    },
    {
      "cell_type": "code",
      "source": [
        "movies_df"
      ],
      "metadata": {
        "id": "xme2YbhZuhli",
        "outputId": "1b62dce0-6d3a-47c1-ab68-d889ba3b918f",
        "colab": {
          "base_uri": "https://localhost:8080/",
          "height": 411
        }
      },
      "execution_count": 54,
      "outputs": [
        {
          "output_type": "execute_result",
          "data": {
            "text/plain": [
              "       movieId                               title  \\\n",
              "0            1                    Toy Story (1995)   \n",
              "1            2                      Jumanji (1995)   \n",
              "2            3             Grumpier Old Men (1995)   \n",
              "3            4            Waiting to Exhale (1995)   \n",
              "4            5  Father of the Bride Part II (1995)   \n",
              "...        ...                                 ...   \n",
              "27273   131254        Kein Bund für's Leben (2007)   \n",
              "27274   131256       Feuer, Eis & Dosenbier (2002)   \n",
              "27275   131258                  The Pirates (2014)   \n",
              "27276   131260                 Rentun Ruusu (2001)   \n",
              "27277   131262                    Innocence (2014)   \n",
              "\n",
              "                                            genres  \n",
              "0      Adventure|Animation|Children|Comedy|Fantasy  \n",
              "1                       Adventure|Children|Fantasy  \n",
              "2                                   Comedy|Romance  \n",
              "3                             Comedy|Drama|Romance  \n",
              "4                                           Comedy  \n",
              "...                                            ...  \n",
              "27273                                       Comedy  \n",
              "27274                                       Comedy  \n",
              "27275                                    Adventure  \n",
              "27276                           (no genres listed)  \n",
              "27277                     Adventure|Fantasy|Horror  \n",
              "\n",
              "[27278 rows x 3 columns]"
            ],
            "text/html": [
              "<div>\n",
              "<style scoped>\n",
              "    .dataframe tbody tr th:only-of-type {\n",
              "        vertical-align: middle;\n",
              "    }\n",
              "\n",
              "    .dataframe tbody tr th {\n",
              "        vertical-align: top;\n",
              "    }\n",
              "\n",
              "    .dataframe thead th {\n",
              "        text-align: right;\n",
              "    }\n",
              "</style>\n",
              "<table border=\"1\" class=\"dataframe\">\n",
              "  <thead>\n",
              "    <tr style=\"text-align: right;\">\n",
              "      <th></th>\n",
              "      <th>movieId</th>\n",
              "      <th>title</th>\n",
              "      <th>genres</th>\n",
              "    </tr>\n",
              "  </thead>\n",
              "  <tbody>\n",
              "    <tr>\n",
              "      <th>0</th>\n",
              "      <td>1</td>\n",
              "      <td>Toy Story (1995)</td>\n",
              "      <td>Adventure|Animation|Children|Comedy|Fantasy</td>\n",
              "    </tr>\n",
              "    <tr>\n",
              "      <th>1</th>\n",
              "      <td>2</td>\n",
              "      <td>Jumanji (1995)</td>\n",
              "      <td>Adventure|Children|Fantasy</td>\n",
              "    </tr>\n",
              "    <tr>\n",
              "      <th>2</th>\n",
              "      <td>3</td>\n",
              "      <td>Grumpier Old Men (1995)</td>\n",
              "      <td>Comedy|Romance</td>\n",
              "    </tr>\n",
              "    <tr>\n",
              "      <th>3</th>\n",
              "      <td>4</td>\n",
              "      <td>Waiting to Exhale (1995)</td>\n",
              "      <td>Comedy|Drama|Romance</td>\n",
              "    </tr>\n",
              "    <tr>\n",
              "      <th>4</th>\n",
              "      <td>5</td>\n",
              "      <td>Father of the Bride Part II (1995)</td>\n",
              "      <td>Comedy</td>\n",
              "    </tr>\n",
              "    <tr>\n",
              "      <th>...</th>\n",
              "      <td>...</td>\n",
              "      <td>...</td>\n",
              "      <td>...</td>\n",
              "    </tr>\n",
              "    <tr>\n",
              "      <th>27273</th>\n",
              "      <td>131254</td>\n",
              "      <td>Kein Bund für's Leben (2007)</td>\n",
              "      <td>Comedy</td>\n",
              "    </tr>\n",
              "    <tr>\n",
              "      <th>27274</th>\n",
              "      <td>131256</td>\n",
              "      <td>Feuer, Eis &amp; Dosenbier (2002)</td>\n",
              "      <td>Comedy</td>\n",
              "    </tr>\n",
              "    <tr>\n",
              "      <th>27275</th>\n",
              "      <td>131258</td>\n",
              "      <td>The Pirates (2014)</td>\n",
              "      <td>Adventure</td>\n",
              "    </tr>\n",
              "    <tr>\n",
              "      <th>27276</th>\n",
              "      <td>131260</td>\n",
              "      <td>Rentun Ruusu (2001)</td>\n",
              "      <td>(no genres listed)</td>\n",
              "    </tr>\n",
              "    <tr>\n",
              "      <th>27277</th>\n",
              "      <td>131262</td>\n",
              "      <td>Innocence (2014)</td>\n",
              "      <td>Adventure|Fantasy|Horror</td>\n",
              "    </tr>\n",
              "  </tbody>\n",
              "</table>\n",
              "<p>27278 rows × 3 columns</p>\n",
              "</div>"
            ]
          },
          "metadata": {},
          "execution_count": 54
        }
      ]
    },
    {
      "cell_type": "code",
      "source": [
        "print(ratings_movies.shape)  # Verifica il numero di righe e colonne\n",
        "print(ratings_movies.head())  # Verifica le prime righe per confermare che il merge è riuscito\n"
      ],
      "metadata": {
        "id": "otubh5o3xQLU",
        "outputId": "d609ca15-09ca-46bf-b9c9-e957da9cadc7",
        "colab": {
          "base_uri": "https://localhost:8080/"
        }
      },
      "execution_count": 59,
      "outputs": [
        {
          "output_type": "stream",
          "name": "stdout",
          "text": [
            "(20000263, 8)\n",
            "   userId  movieId  rating            timestamp  \\\n",
            "0      74     1094     5.0  2001-01-09 22:52:35   \n",
            "1      74     1104     4.0  2001-01-09 22:52:35   \n",
            "2      74     1131     4.0  2001-01-09 22:59:15   \n",
            "3      74     1172     5.0  2001-01-09 22:55:58   \n",
            "4      74     1179     4.0  2001-01-09 23:02:11   \n",
            "\n",
            "                                            title                  genres  \\\n",
            "0                         Crying Game, The (1992)  Drama|Romance|Thriller   \n",
            "1                Streetcar Named Desire, A (1951)                   Drama   \n",
            "2                         Jean de Florette (1986)           Drama|Mystery   \n",
            "3  Cinema Paradiso (Nuovo cinema Paradiso) (1989)                   Drama   \n",
            "4                            Grifters, The (1990)   Crime|Drama|Film-Noir   \n",
            "\n",
            "   imdbId  tmdbId  \n",
            "0  104036   11386  \n",
            "1   44081     702  \n",
            "2   91288    4480  \n",
            "3   95765   11216  \n",
            "4   99703   18129  \n"
          ]
        }
      ]
    },
    {
      "cell_type": "code",
      "source": [
        "ratings_movies = ratings_movies.dropna(subset=['movieId'])\n"
      ],
      "metadata": {
        "id": "ESbMYI8jxYwV"
      },
      "execution_count": 60,
      "outputs": []
    },
    {
      "cell_type": "code",
      "source": [
        "grouped = ratings_movies.groupby('userId').size()\n",
        "print(grouped)\n"
      ],
      "metadata": {
        "id": "MfiY0GORxefX",
        "outputId": "2fc177a1-9267-40bc-c3ea-61b023c7ca52",
        "colab": {
          "base_uri": "https://localhost:8080/"
        }
      },
      "execution_count": 61,
      "outputs": [
        {
          "output_type": "stream",
          "name": "stdout",
          "text": [
            "userId\n",
            "92922     156\n",
            "75026     246\n",
            "12513      42\n",
            "52602      27\n",
            "23593      41\n",
            "         ... \n",
            "131903     22\n",
            "111596     30\n",
            "55593      42\n",
            "109079     53\n",
            "42942     161\n",
            "Length: 138493, dtype: int64\n"
          ]
        }
      ]
    },
    {
      "cell_type": "code",
      "source": [
        "import cudf\n",
        "\n",
        "# Convert the cuDF DataFrame to a Pandas DataFrame\n",
        "ratings_movies_pd = ratings_movies.to_pandas()\n",
        "\n",
        "# Perform the groupby and apply operations using Pandas\n",
        "user_movie_groups = ratings_movies_pd.groupby('userId')['movieId'].apply(list).reset_index()\n",
        "\n",
        "# If you need to convert it back to a cuDF DataFrame:\n",
        "user_movie_groups = cudf.from_pandas(user_movie_groups)"
      ],
      "metadata": {
        "id": "iNPY4czfyuyv"
      },
      "execution_count": 27,
      "outputs": []
    },
    {
      "cell_type": "code",
      "source": [
        "import cudf\n",
        "import numpy as np\n",
        "\n",
        "all_movies = ratings_movies['movieId'].unique().to_pandas() # Convert to Pandas Series\n",
        "\n",
        "# Crea una matrice utente-film con 1 se l'utente ha visto il film, altrimenti 0\n",
        "user_movie_matrix = np.zeros((len(user_movie_groups), len(all_movies)))\n",
        "\n",
        "# Mappa i film unici a indici\n",
        "movie_index = {movie: idx for idx, movie in enumerate(all_movies)} # Now iterable\n",
        "\n",
        "# Convert the cuDF DataFrame to a Pandas DataFrame for iteration\n",
        "user_movie_groups_pd = user_movie_groups.to_pandas()\n",
        "\n",
        "# Popola la matrice binaria using the Pandas DataFrame\n",
        "for idx, row in user_movie_groups_pd.iterrows():\n",
        "    user_id = row['userId']\n",
        "    movie_ids = row['movieId']\n",
        "    for movie in movie_ids:\n",
        "        user_movie_matrix[idx, movie_index[movie]] = 1\n",
        "\n",
        "# La matrice user_movie_matrix ora è una matrice binaria\n"
      ],
      "metadata": {
        "id": "pENj9qT3yLeQ"
      },
      "execution_count": 28,
      "outputs": []
    },
    {
      "cell_type": "code",
      "source": [
        "# Parametri per MinHash\n",
        "num_hash_functions = 50  # Numero di funzioni hash da generare\n",
        "num_users, num_movies = user_movie_matrix.shape\n",
        "\n",
        "# Inizializza la matrice delle firme MinHash\n",
        "signature_matrix = np.full((num_hash_functions, num_users), np.inf)\n",
        "\n",
        "# Funzione per generare hash function lineari: h(x) = (ax + b) % num_movies\n",
        "def generate_hash_functions(num_funcs, max_val):\n",
        "    hash_funcs = []\n",
        "    np.random.seed(42)  # Per riproducibilità\n",
        "    for _ in range(num_funcs):\n",
        "        a = np.random.randint(1, max_val)\n",
        "        b = np.random.randint(0, max_val)\n",
        "        hash_funcs.append((a, b))\n",
        "    return hash_funcs\n",
        "\n",
        "# Generazione delle hash function\n",
        "hash_funcs = generate_hash_functions(num_hash_functions, num_movies)\n",
        "\n",
        "# Applicazione di MinHash per ogni film (colonna)\n",
        "for movie_idx in range(num_movies):\n",
        "    if user_movie_matrix[:, movie_idx].sum() == 0:\n",
        "        continue  # Salta se nessun utente ha visto questo film\n",
        "\n",
        "    for func_idx, (a, b) in enumerate(hash_funcs):\n",
        "        # Per ogni film, calcola il valore hash per ogni utente\n",
        "        hash_value = (a * (movie_idx + 1) + b) % num_movies\n",
        "\n",
        "        for user_idx in range(num_users):\n",
        "            if user_movie_matrix[user_idx, movie_idx] == 1:\n",
        "                # Aggiorna la firma MinHash per l'utente\n",
        "                signature_matrix[func_idx, user_idx] = min(signature_matrix[func_idx, user_idx], hash_value)\n",
        "\n",
        "# Converti la matrice delle firme in un DataFrame\n",
        "signature_df = pd.DataFrame(signature_matrix, columns=user_movie_groups['userId'])\n",
        "\n",
        "print(signature_df.head())\n"
      ],
      "metadata": {
        "id": "D54rKeVvyPDg"
      },
      "execution_count": null,
      "outputs": []
    },
    {
      "cell_type": "code",
      "source": [
        "# Funzione per calcolare la similarità Jaccard tra due firme MinHash\n",
        "def jaccard_similarity(sig1, sig2):\n",
        "    return np.sum(sig1 == sig2) / len(sig1)\n",
        "\n",
        "# Esempio di calcolo della similarità tra due utenti (sostituisci con gli userId reali)\n",
        "user1 = 1\n",
        "user2 = 2\n",
        "similarity = jaccard_similarity(signature_df[user1], signature_df[user2])\n",
        "print(f\"Similarità Jaccard tra User {user1} e User {user2}: {similarity:.2f}\")\n"
      ],
      "metadata": {
        "id": "u5Rq0scnyQ9t"
      },
      "execution_count": null,
      "outputs": []
    }
  ]
}